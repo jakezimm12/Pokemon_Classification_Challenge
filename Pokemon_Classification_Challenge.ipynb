{
  "nbformat": 4,
  "nbformat_minor": 0,
  "metadata": {
    "colab": {
      "name": "Pokemon_Classification_Challenge.ipynb",
      "provenance": [],
      "authorship_tag": "ABX9TyN2GC5G2e+GUaq7AUZ08Kl2",
      "include_colab_link": true
    },
    "kernelspec": {
      "name": "python3",
      "display_name": "Python 3"
    },
    "language_info": {
      "name": "python"
    }
  },
  "cells": [
    {
      "cell_type": "markdown",
      "metadata": {
        "id": "view-in-github",
        "colab_type": "text"
      },
      "source": [
        "<a href=\"https://colab.research.google.com/github/jakezimm12/Pokemon_Classification_Challenge/blob/main/Pokemon_Classification_Challenge.ipynb\" target=\"_parent\"><img src=\"https://colab.research.google.com/assets/colab-badge.svg\" alt=\"Open In Colab\"/></a>"
      ]
    },
    {
      "cell_type": "code",
      "metadata": {
        "id": "zG83R1LYrH7M"
      },
      "source": [
        "import pandas as pd\n",
        "import numpy as np\n",
        "from numpy import mean\n",
        "from numpy import std\n",
        "import scipy.stats as stats\n",
        "from matplotlib import pyplot\n",
        "from scipy.stats import chi2_contingency\n",
        "from scipy import interp\n",
        "from sklearn.metrics import precision_recall_curve\n",
        "from sklearn.metrics import f1_score\n",
        "from sklearn.metrics import auc\n",
        "from sklearn.metrics import roc_curve\n",
        "from sklearn.metrics import roc_auc_score\n",
        "from sklearn.metrics import accuracy_score\n",
        "from sklearn.model_selection import train_test_split\n",
        "from sklearn.feature_selection import chi2, f_classif\n",
        "from sklearn.datasets import make_classification\n",
        "from sklearn.model_selection import KFold, StratifiedKFold\n",
        "from sklearn.model_selection import cross_val_score\n",
        "from sklearn.ensemble import RandomForestClassifier\n",
        "from sklearn.datasets import make_classification\n",
        "from sklearn.metrics import roc_curve,auc"
      ],
      "execution_count": 41,
      "outputs": []
    },
    {
      "cell_type": "code",
      "metadata": {
        "id": "DyxN0RQlptS0"
      },
      "source": [
        "### Import Data ###\n",
        "\n",
        "import io\n",
        "data = pd.read_csv('https://raw.githubusercontent.com/jakezimm12/Pokemon_Classification_Challenge/main/pokemon_data_science_-_pokemon_data_science.csv')"
      ],
      "execution_count": 42,
      "outputs": []
    },
    {
      "cell_type": "code",
      "metadata": {
        "id": "_pzmnqMZB8EH"
      },
      "source": [
        "#### For Reference: ####\n",
        "name_col_dict = {\n",
        "'Number': 0, \n",
        "'Name': 1,\n",
        "'Type_1': 2,\n",
        "'Type_2': 3,\n",
        "'Total': 4,\n",
        "'HP': 5,\n",
        "'Attack': 6,\n",
        "'Defense': 7,\n",
        "'Sp_Atk': 8,\n",
        "'Sp_Def': 9,\n",
        "'Speed': 10,\n",
        "'Generation': 11,\n",
        "'isLegendary': 12,\n",
        "'Color': 13,\n",
        "'hasGender': 14,\n",
        "'Pr_Male': 15,\n",
        "'Egg_Group_1': 16,\n",
        "'Egg_Group_2': 17,\n",
        "'hasMegaEvolution': 18,\n",
        "'Height_m': 19,\n",
        "'Weight_kg': 20,\n",
        "'Catch_Rate': 21,\n",
        "'Body_Style': 22\n",
        "}\n"
      ],
      "execution_count": 43,
      "outputs": []
    },
    {
      "cell_type": "code",
      "metadata": {
        "id": "acfQ0tIaL3Wl"
      },
      "source": [
        "### Replace NaN Cols ###\n",
        "\n",
        "# Type_2 has NaN, reasonable to replace with 'Undefined'\n",
        "data['Type_2'].fillna('Undefined', inplace=True)\n",
        "\n",
        "# Egg_Group_2 has NaN, reasonable to replace with 'Undiscovered' as in Egg_Group_1\n",
        "data['Egg_Group_2'].fillna('Undiscovered', inplace=True)\n",
        "\n",
        "# Pr_Male has NaN, replace with .5 (classification won't work if not valid).\n",
        "data['Pr_Male'].fillna(.5, inplace=True)"
      ],
      "execution_count": 44,
      "outputs": []
    },
    {
      "cell_type": "code",
      "metadata": {
        "colab": {
          "base_uri": "https://localhost:8080/"
        },
        "id": "bw5LprWV8-e5",
        "outputId": "041e70d6-d2c3-4ee8-e905-0c7f95f32ba3"
      },
      "source": [
        "### Find correlated variables to remove ###\n",
        "\n",
        "# Create correlation matrix\n",
        "corr_matrix = data.corr().abs()\n",
        "\n",
        "# Select upper triangle of correlation matrix\n",
        "upper = corr_matrix.where(np.triu(np.ones(corr_matrix.shape), k=1).astype(np.bool))\n",
        "\n",
        "# Find features with correlation greater than 0.95\n",
        "to_drop = [column for column in upper.columns if any(upper[column] > 0.95)]\n",
        "\n",
        "print(\"Highly correlated features to drop:\", to_drop)\n",
        "\n",
        "# Will perform dropping later for simplicity because we want name_col_dict to continue to be valid"
      ],
      "execution_count": 45,
      "outputs": [
        {
          "output_type": "stream",
          "name": "stdout",
          "text": [
            "Highly correlated features to drop: ['Generation']\n"
          ]
        }
      ]
    },
    {
      "cell_type": "code",
      "metadata": {
        "colab": {
          "base_uri": "https://localhost:8080/"
        },
        "id": "aTPQRzi5q8Pf",
        "outputId": "59de0c9a-31f6-484c-c5f8-a51a0e911ac4"
      },
      "source": [
        "### Perform chi-squared for categorical data ###\n",
        "# Code from Badiuzzaman Biplob: https://www.linkedin.com/pulse/chi-square-feature-selection-python-md-badiuzzaman-biplob/\n",
        "\n",
        "class ChiSquare:\n",
        "    def __init__(self, dataframe):\n",
        "        self.df = dataframe\n",
        "        self.p = None #P-Value\n",
        "        self.chi2 = None #Chi Test Statistic\n",
        "        self.dof = None\n",
        "        \n",
        "        self.dfObserved = None\n",
        "        self.dfExpected = None\n",
        "\n",
        "    def _print_chisquare_result(self, colX, alpha):\n",
        "            result = \"\"\n",
        "            if self.p<alpha:\n",
        "                result=\"{0} is IMPORTANT for Prediction\".format(colX)\n",
        "            else:\n",
        "                result=\"{0} is NOT an important predictor. (Discard {0} from model)\".format(colX)\n",
        "\n",
        "            print(result) \n",
        "\n",
        "    def TestIndependence(self,colX,colY, alpha=0.05):\n",
        "            X = self.df[colX].astype(str)\n",
        "            Y = self.df[colY].astype(str)\n",
        "            \n",
        "            self.dfObserved = pd.crosstab(Y,X) \n",
        "            chi2, p, dof, expected = stats.chi2_contingency(self.dfObserved.values)\n",
        "            self.p = p\n",
        "            self.chi2 = chi2\n",
        "            self.dof = dof \n",
        "            \n",
        "            self.dfExpected = pd.DataFrame(expected, columns=self.dfObserved.columns, index = self.dfObserved.index)\n",
        "            \n",
        "            self._print_chisquare_result(colX,alpha)\n",
        "\n",
        "#Initialize ChiSquare Class\n",
        "cT = ChiSquare(data)\n",
        "#Feature Selection\n",
        "testColumns = ['Name', 'Type_1', 'Type_2', 'Generation', 'Color', 'hasGender', 'Egg_Group_1', 'Egg_Group_2', 'hasMegaEvolution', 'Body_Style']\n",
        "for var in testColumns:\n",
        "    cT.TestIndependence(colX=var,colY='isLegendary')\n"
      ],
      "execution_count": 46,
      "outputs": [
        {
          "output_type": "stream",
          "name": "stdout",
          "text": [
            "Name is NOT an important predictor. (Discard Name from model)\n",
            "Type_1 is IMPORTANT for Prediction\n",
            "Type_2 is NOT an important predictor. (Discard Type_2 from model)\n",
            "Generation is NOT an important predictor. (Discard Generation from model)\n",
            "Color is NOT an important predictor. (Discard Color from model)\n",
            "hasGender is IMPORTANT for Prediction\n",
            "Egg_Group_1 is IMPORTANT for Prediction\n",
            "Egg_Group_2 is NOT an important predictor. (Discard Egg_Group_2 from model)\n",
            "hasMegaEvolution is NOT an important predictor. (Discard hasMegaEvolution from model)\n",
            "Body_Style is NOT an important predictor. (Discard Body_Style from model)\n"
          ]
        }
      ]
    },
    {
      "cell_type": "code",
      "metadata": {
        "colab": {
          "base_uri": "https://localhost:8080/"
        },
        "id": "WSD5KJiyy8nz",
        "outputId": "492b582d-71aa-44b2-d73a-c9bedd183b89"
      },
      "source": [
        "# Perform ANOVA f-test for continuous data ###\n",
        "# Code from: https://www.programcreek.com/python/example/85917/sklearn.feature_selection.f_classif\n",
        "\n",
        "print(data)\n",
        "\n",
        "def f_score(X, y):\n",
        "    \"\"\"\n",
        "    This function implements the anova f_value feature selection (existing method for classification in scikit-learn),\n",
        "    where f_score = sum((ni/(c-1))*(mean_i - mean)^2)/((1/(n - c))*sum((ni-1)*std_i^2))\n",
        "\n",
        "    Input\n",
        "    -----\n",
        "    X: {numpy array}, shape (n_samples, n_features)\n",
        "        input data\n",
        "    y : {numpy array},shape (n_samples,)\n",
        "        input class labels\n",
        "\n",
        "    Output\n",
        "    ------\n",
        "    F: {numpy array}, shape (n_features,)\n",
        "        f-score for each feature\n",
        "    \"\"\"\n",
        "\n",
        "    F, pval = f_classif(X, y)\n",
        "    return F\n",
        "\n",
        "np_data = data.to_numpy() # convert to numpy\n",
        "\n",
        "for i in ['Total', 'HP', 'Attack', 'Defense', 'Sp_Atk', 'Sp_Def', 'Speed', 'Pr_Male', 'Height_m', 'Weight_kg']:\n",
        "  print(i, 'ANOVA F-value:', f_score(np_data[:, [name_col_dict[i]]], np_data[:, 12])[0])\n"
      ],
      "execution_count": 47,
      "outputs": [
        {
          "output_type": "stream",
          "name": "stdout",
          "text": [
            "     Number        Name   Type_1  ... Weight_kg  Catch_Rate       Body_Style\n",
            "0         1   Bulbasaur    Grass  ...       6.9          45        quadruped\n",
            "1         2     Ivysaur    Grass  ...      13.0          45        quadruped\n",
            "2         3    Venusaur    Grass  ...     100.0          45        quadruped\n",
            "3         4  Charmander     Fire  ...       8.5          45   bipedal_tailed\n",
            "4         5  Charmeleon     Fire  ...      19.0          45   bipedal_tailed\n",
            "..      ...         ...      ...  ...       ...         ...              ...\n",
            "716     717     Yveltal     Dark  ...     203.0          45        two_wings\n",
            "717     718     Zygarde   Dragon  ...     305.0           3  serpentine_body\n",
            "718     719     Diancie     Rock  ...       8.8           3        head_arms\n",
            "719     720       Hoopa  Psychic  ...       9.0           3        head_only\n",
            "720     721   Volcanion     Fire  ...     195.0           3        quadruped\n",
            "\n",
            "[721 rows x 23 columns]\n",
            "Total ANOVA F-value: 217.40159811552235\n",
            "HP ANOVA F-value: 51.66759051973516\n",
            "Attack ANOVA F-value: 72.57054050778561\n",
            "Defense ANOVA F-value: 58.56690447725074\n",
            "Sp_Atk ANOVA F-value: 145.0646560428652\n",
            "Sp_Def ANOVA F-value: 107.20392907495834\n",
            "Speed ANOVA F-value: 64.09061660989674\n",
            "Pr_Male ANOVA F-value: 0.3097355535455475\n",
            "Height_m ANOVA F-value: 85.68849654572549\n",
            "Weight_kg ANOVA F-value: 158.69791342802776\n"
          ]
        }
      ]
    },
    {
      "cell_type": "code",
      "metadata": {
        "id": "4X4kNaP_AxXT"
      },
      "source": [
        "### Remove desired variables ###\n",
        "# I kept all numerical data except Pr_Male, which had low F-value.\n",
        "# I removed all of the highly 'Number,' correlated features, and categorical features based on Chi-Squared Test, as well as Catch_Rate as per instructions.\n",
        "\n",
        "data = data.drop(columns=['Number', 'Name', 'Type_2', 'Generation', 'Color', 'Pr_Male', 'Egg_Group_2', 'hasMegaEvolution', 'Catch_Rate', 'Body_Style'])\n"
      ],
      "execution_count": 48,
      "outputs": []
    },
    {
      "cell_type": "code",
      "metadata": {
        "id": "HNSGwUT8KCKN"
      },
      "source": [
        "### Prepare Data for Random Forest Classifier ###\n",
        "\n",
        "# Map booleans to 1-0\n",
        "data['hasGender'] = data['hasGender'].astype(int)\n",
        "data['isLegendary'] = data['isLegendary'].astype(int)\n",
        "\n",
        "# One-hot encode categorical variables\n",
        "categ_cols = ['Type_1', 'Egg_Group_1']\n",
        "data = pd.get_dummies(data, columns=categ_cols)\n",
        "\n",
        "# Since data often has many consecutive legendary rows, shuffle data\n",
        "data = data.sample(frac=1)\n",
        "\n",
        "# Separate labels\n",
        "isLeg = data['isLegendary']\n",
        "data = data.drop('isLegendary', axis=1)\n"
      ],
      "execution_count": 49,
      "outputs": []
    },
    {
      "cell_type": "code",
      "metadata": {
        "colab": {
          "base_uri": "https://localhost:8080/"
        },
        "id": "hPr7jWXyC8V4",
        "outputId": "eee05f8f-9597-48a3-fa87-2912e414a18c"
      },
      "source": [
        "### Random Forest with Cross Validation ###\n",
        "\n",
        "# Create Model\n",
        "rfc = RandomForestClassifier()\n",
        "\n",
        "# prepare the cross-validation procedure\n",
        "cv5 = KFold(n_splits=5)\n",
        "cv10 = KFold(n_splits=10)\n",
        "# evaluate model\n",
        "scores5 = cross_val_score(rfc, data, isLeg, scoring='accuracy', cv=cv5, n_jobs=-1)\n",
        "scores10 = cross_val_score(rfc, data, isLeg, scoring='accuracy', cv=cv10, n_jobs=-1)\n",
        "# report performance\n",
        "print('Accuracy for 5-Fold CV: %.3f (%.3f)' % (np.mean(scores5), np.std(scores5)))\n",
        "print('Accuracy for 10-Fold CV: %.3f (%.3f)' % (np.mean(scores5), np.std(scores5)))"
      ],
      "execution_count": 50,
      "outputs": [
        {
          "output_type": "stream",
          "name": "stdout",
          "text": [
            "Accuracy for 5-Fold CV: 0.989 (0.007)\n",
            "Accuracy for 10-Fold CV: 0.989 (0.007)\n"
          ]
        }
      ]
    },
    {
      "cell_type": "code",
      "metadata": {
        "colab": {
          "base_uri": "https://localhost:8080/",
          "height": 296
        },
        "id": "5i-8pz9es8KL",
        "outputId": "c88d402c-f829-42ab-94d1-1553b1ead1d0"
      },
      "source": [
        "### Precision Recall Curve ###\n",
        "\n",
        "# # generate 2 class dataset\n",
        "# X, y = make_classification(n_samples=1000, n_classes=2, random_state=1)\n",
        "# split into train/test sets\n",
        "trainX, testX, trainy, testy = train_test_split(data, isLeg, test_size=0.4, random_state=2)\n",
        "\n",
        "# fit a model\n",
        "model = rfc\n",
        "model.fit(trainX, trainy)\n",
        "# predict probabilities\n",
        "lr_probs = model.predict_proba(testX)\n",
        "# keep probabilities for the positive outcome only\n",
        "lr_probs = lr_probs[:, 1]\n",
        "# predict class values\n",
        "yhat = model.predict(testX)\n",
        "lr_precision, lr_recall, _ = precision_recall_curve(testy, lr_probs)\n",
        "lr_f1, lr_auc = f1_score(testy, yhat), auc(lr_recall, lr_precision)\n",
        "# summarize scores\n",
        "print('Random Forest: f1=%.3f auc=%.3f' % (lr_f1, lr_auc))\n",
        "# plot the precision-recall curves\n",
        "no_skill = len(testy[testy==1]) / len(testy)\n",
        "pyplot.plot([0, 1], [no_skill, no_skill], linestyle='--', label='No Skill')\n",
        "pyplot.plot(lr_recall, lr_precision, marker='.', label='Random Forest')\n",
        "# axis labels\n",
        "pyplot.xlabel('Recall')\n",
        "pyplot.ylabel('Precision')\n",
        "# show the legend\n",
        "pyplot.legend()\n",
        "# show the plot\n",
        "pyplot.show()"
      ],
      "execution_count": 63,
      "outputs": [
        {
          "output_type": "stream",
          "name": "stdout",
          "text": [
            "Random Forest: f1=0.842 auc=0.970\n"
          ]
        },
        {
          "output_type": "display_data",
          "data": {
            "image/png": "[encoded data removed]",
            "text/plain": [
              "<Figure size 432x288 with 1 Axes>"
            ]
          },
          "metadata": {
            "needs_background": "light"
          }
        }
      ]
    },
    {
      "cell_type": "code",
      "metadata": {
        "colab": {
          "base_uri": "https://localhost:8080/",
          "height": 297
        },
        "id": "DW_Gbw4K_Gu9",
        "outputId": "e42a651d-c951-4c35-9621-08396f25f5e5"
      },
      "source": [
        "### Feature Importance as Determined by Random Forest ###\n",
        "\n",
        "feature_names = [col for col in data.columns]\n",
        "importances = rfc.feature_importances_\n",
        "std = np.std([tree.feature_importances_ for tree in rfc.estimators_], axis=0)\n",
        "\n",
        "for i in range(len(feature_names) - 1, -1, -1): #iterate backwards so we don't ruin indexing\n",
        "  if importances[i] < .05:\n",
        "    feature_names.pop(i)\n",
        "    importances = np.delete(importances, i)\n",
        "    std = np.delete(std, i)\n",
        "\n",
        "forest_importances = pd.Series(importances, index=feature_names)\n",
        "\n",
        "fig, ax = pyplot.subplots()\n",
        "forest_importances.plot.bar(yerr=std, ax=ax)\n",
        "ax.set_title(\"Feature importances using MDI\")\n",
        "ax.set_ylabel(\"Mean decrease in impurity\")\n",
        "fig.tight_layout()"
      ],
      "execution_count": 52,
      "outputs": [
        {
          "output_type": "display_data",
          "data": {
            "image/png": "[encoded data removed]",
            "text/plain": [
              "<Figure size 432x288 with 1 Axes>"
            ]
          },
          "metadata": {
            "needs_background": "light"
          }
        }
      ]
    }
  ]
}